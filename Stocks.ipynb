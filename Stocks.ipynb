{
  "nbformat": 4,
  "nbformat_minor": 0,
  "metadata": {
    "kernelspec": {
      "display_name": "Python 3",
      "language": "python",
      "name": "python3"
    },
    "language_info": {
      "codemirror_mode": {
        "name": "ipython",
        "version": 3
      },
      "file_extension": ".py",
      "mimetype": "text/x-python",
      "name": "python",
      "nbconvert_exporter": "python",
      "pygments_lexer": "ipython3",
      "version": "3.7.0"
    },
    "colab": {
      "name": "Stocks.ipynb",
      "provenance": [],
      "include_colab_link": true
    }
  },
  "cells": [
    {
      "cell_type": "markdown",
      "metadata": {
        "id": "view-in-github",
        "colab_type": "text"
      },
      "source": [
        "<a href=\"https://colab.research.google.com/github/aravindhippilli/NSE-Stocks-Data-using-Python/blob/main/Stocks.ipynb\" target=\"_parent\"><img src=\"https://colab.research.google.com/assets/colab-badge.svg\" alt=\"Open In Colab\"/></a>"
      ]
    },
    {
      "cell_type": "code",
      "metadata": {
        "id": "PhkoeCo3njqo"
      },
      "source": [
        "'''\n",
        "I have used a python library to import stocks data from nseindia.com\n",
        "This module webscraps data from NSE india use API\n",
        "'''"
      ],
      "execution_count": null,
      "outputs": []
    },
    {
      "cell_type": "code",
      "metadata": {
        "id": "Zcqf1Z4jnjrM"
      },
      "source": [
        "from nsetools import Nse\n",
        "#above python library is used to get data from Nse website\n",
        "import pandas as pd\n",
        "#pandas is used to analyze data\n",
        "\n",
        "def func(stocknames):\n",
        "    #creating a Nse object\n",
        "    nse = Nse() \n",
        "    out = [] #list of dicts to store each stock data\n",
        "    for i in stocknames: \n",
        "        #get_quote(stockname) will return stocks details\n",
        "        stock = nse.get_quote(i) \n",
        "        d = {} #dict\n",
        "        d['Symbol'] = i \n",
        "        d['Open'] = stock['open']  \n",
        "        d['High'] = stock['dayHigh']\n",
        "        d['Low'] = stock['dayLow']\n",
        "        d['Close'] = stock['closePrice']  \n",
        "        d['Volume'] = stock['totalTradedVolume']\n",
        "        d['Delivery Data'] = stock['deliveryQuantity']\n",
        "        d['Delivery Percentage'] = stock['deliveryToTradedQuantity']\n",
        "        out.append(d) #appending dict to list\n",
        "    #converting list to pandas dataframe\n",
        "    return pd.DataFrame(out)\n"
      ],
      "execution_count": null,
      "outputs": []
    },
    {
      "cell_type": "code",
      "metadata": {
        "id": "T-zgrDoOnjrR",
        "outputId": "3431060f-13ae-4d80-b305-a242964119ec"
      },
      "source": [
        "func(['RELIANCE', 'HDFCBANK', 'ADANIPORTS', 'ITC', 'SBIN', 'IOC', 'RBLBANK'])"
      ],
      "execution_count": null,
      "outputs": [
        {
          "output_type": "execute_result",
          "data": {
            "text/html": [
              "<div>\n",
              "<style scoped>\n",
              "    .dataframe tbody tr th:only-of-type {\n",
              "        vertical-align: middle;\n",
              "    }\n",
              "\n",
              "    .dataframe tbody tr th {\n",
              "        vertical-align: top;\n",
              "    }\n",
              "\n",
              "    .dataframe thead th {\n",
              "        text-align: right;\n",
              "    }\n",
              "</style>\n",
              "<table border=\"1\" class=\"dataframe\">\n",
              "  <thead>\n",
              "    <tr style=\"text-align: right;\">\n",
              "      <th></th>\n",
              "      <th>Symbol</th>\n",
              "      <th>Open</th>\n",
              "      <th>High</th>\n",
              "      <th>Low</th>\n",
              "      <th>Close</th>\n",
              "      <th>Volume</th>\n",
              "      <th>Delivery Data</th>\n",
              "      <th>Delivery Percentage</th>\n",
              "    </tr>\n",
              "  </thead>\n",
              "  <tbody>\n",
              "    <tr>\n",
              "      <th>0</th>\n",
              "      <td>RELIANCE</td>\n",
              "      <td>1981.00</td>\n",
              "      <td>2002.60</td>\n",
              "      <td>1972.50</td>\n",
              "      <td>0.0</td>\n",
              "      <td>5567958.0</td>\n",
              "      <td>1792701.0</td>\n",
              "      <td>36.38</td>\n",
              "    </tr>\n",
              "    <tr>\n",
              "      <th>1</th>\n",
              "      <td>HDFCBANK</td>\n",
              "      <td>1458.95</td>\n",
              "      <td>1482.75</td>\n",
              "      <td>1455.00</td>\n",
              "      <td>0.0</td>\n",
              "      <td>11082640.0</td>\n",
              "      <td>6355888.0</td>\n",
              "      <td>63.43</td>\n",
              "    </tr>\n",
              "    <tr>\n",
              "      <th>2</th>\n",
              "      <td>ADANIPORTS</td>\n",
              "      <td>765.00</td>\n",
              "      <td>780.00</td>\n",
              "      <td>757.10</td>\n",
              "      <td>0.0</td>\n",
              "      <td>9877934.0</td>\n",
              "      <td>1703291.0</td>\n",
              "      <td>22.22</td>\n",
              "    </tr>\n",
              "    <tr>\n",
              "      <th>3</th>\n",
              "      <td>ITC</td>\n",
              "      <td>214.10</td>\n",
              "      <td>214.60</td>\n",
              "      <td>209.65</td>\n",
              "      <td>0.0</td>\n",
              "      <td>30479551.0</td>\n",
              "      <td>14030788.0</td>\n",
              "      <td>55.38</td>\n",
              "    </tr>\n",
              "    <tr>\n",
              "      <th>4</th>\n",
              "      <td>SBIN</td>\n",
              "      <td>390.00</td>\n",
              "      <td>392.55</td>\n",
              "      <td>380.05</td>\n",
              "      <td>0.0</td>\n",
              "      <td>70917710.0</td>\n",
              "      <td>17512395.0</td>\n",
              "      <td>27.50</td>\n",
              "    </tr>\n",
              "    <tr>\n",
              "      <th>5</th>\n",
              "      <td>IOC</td>\n",
              "      <td>103.10</td>\n",
              "      <td>105.90</td>\n",
              "      <td>102.45</td>\n",
              "      <td>0.0</td>\n",
              "      <td>35764247.0</td>\n",
              "      <td>10739437.0</td>\n",
              "      <td>34.67</td>\n",
              "    </tr>\n",
              "    <tr>\n",
              "      <th>6</th>\n",
              "      <td>RBLBANK</td>\n",
              "      <td>201.00</td>\n",
              "      <td>202.95</td>\n",
              "      <td>198.30</td>\n",
              "      <td>0.0</td>\n",
              "      <td>19675919.0</td>\n",
              "      <td>8127155.0</td>\n",
              "      <td>44.63</td>\n",
              "    </tr>\n",
              "  </tbody>\n",
              "</table>\n",
              "</div>"
            ],
            "text/plain": [
              "       Symbol     Open     High      Low  Close      Volume  Delivery Data  \\\n",
              "0    RELIANCE  1981.00  2002.60  1972.50    0.0   5567958.0      1792701.0   \n",
              "1    HDFCBANK  1458.95  1482.75  1455.00    0.0  11082640.0      6355888.0   \n",
              "2  ADANIPORTS   765.00   780.00   757.10    0.0   9877934.0      1703291.0   \n",
              "3         ITC   214.10   214.60   209.65    0.0  30479551.0     14030788.0   \n",
              "4        SBIN   390.00   392.55   380.05    0.0  70917710.0     17512395.0   \n",
              "5         IOC   103.10   105.90   102.45    0.0  35764247.0     10739437.0   \n",
              "6     RBLBANK   201.00   202.95   198.30    0.0  19675919.0      8127155.0   \n",
              "\n",
              "   Delivery Percentage  \n",
              "0                36.38  \n",
              "1                63.43  \n",
              "2                22.22  \n",
              "3                55.38  \n",
              "4                27.50  \n",
              "5                34.67  \n",
              "6                44.63  "
            ]
          },
          "metadata": {
            "tags": []
          },
          "execution_count": 9
        }
      ]
    },
    {
      "cell_type": "code",
      "metadata": {
        "id": "TccvKfw3njrX"
      },
      "source": [
        ""
      ],
      "execution_count": null,
      "outputs": []
    }
  ]
}